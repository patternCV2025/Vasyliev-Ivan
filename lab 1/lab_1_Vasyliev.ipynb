{
 "cells": [
  {
   "cell_type": "markdown",
   "metadata": {},
   "source": [
    "20.03.25, © Vasyliev Ivan KI-21-1"
   ]
  },
  {
   "cell_type": "markdown",
   "metadata": {},
   "source": [
    "## Лабораторна робота #1. Побудова простого лінійного бінарного класифікатора.\n",
    "\n",
    "### Що ви будете вміти?\n",
    "Познайомитеся з деякими можливостями бібліотеки NumPy.\n",
    "Реалізувати простий лінійний класифікатор Розенблата мовою Python\n",
    "\n",
    "### Завдання для самостійної роботи\n",
    "1. Імпортувати дані для навчальної вибірки згідно з індивідуальним варіантом (імпорт організувати з файлу).\n",
    "2. Побудувати бінарний класифікатор і вивести результати бінарної класифікації на графіку."
   ]
  },
  {
   "cell_type": "code",
   "execution_count": null,
   "metadata": {},
   "outputs": [
    {
     "name": "stdout",
     "output_type": "stream",
     "text": [
      "Знайдені ваги: [np.float64(0.10000000000000003), -1]\n"
     ]
    },
    {
     "data": {
      "image/png": "[encoded data removed]",
      "text/plain": [
       "<Figure size 640x480 with 1 Axes>"
      ]
     },
     "metadata": {},
     "output_type": "display_data"
    }
   ],
   "source": [
    "import numpy as np\n",
    "import matplotlib.pyplot as plt\n",
    "\n",
    "# Завантаження даних з файлу\n",
    "data = np.loadtxt('data.txt')  # Зчитуємо файл, припускаючи формат: ознака1 ознака2 мітка\n",
    "x_train = data[:, :2]          \n",
    "y_train = data[:, 2]           \n",
    "\n",
    "# Параметри алгоритму\n",
    "n_train = len(x_train)                          # Розмір навчальної вибірки\n",
    "w = [0, -1]                                     \n",
    "a = lambda x: np.sign(x[0]*w[0] + x[1]*w[1])    # Правило класифікації\n",
    "N = 150                                         \n",
    "L = 0.1                                         \n",
    "e = 0.1                                         \n",
    "last_error_index = -1                           # Індекс останньої помилкової спостереження\n",
    "\n",
    "\n",
    "for n in range(N):\n",
    "    for i in range(n_train):               \n",
    "        if y_train[i]*a(x_train[i]) < 0:   \n",
    "            w[0] = w[0] + L * y_train[i]    \n",
    "            last_error_index = i\n",
    "\n",
    "   \n",
    "    Q = sum([1 for i in range(n_train) if y_train[i]*a(x_train[i]) < 0])\n",
    "    if Q == 0:      \n",
    "        break       \n",
    "\n",
    "\n",
    "if last_error_index > -1:\n",
    "    w[0] = w[0] + e * y_train[last_error_index]\n",
    "\n",
    "print(\"Знайдені ваги:\", w)\n",
    "\n",
    "\n",
    "line_x = list(range(int(max(x_train[:, 0])) + 1))  \n",
    "line_y = [w[0]*x for x in line_x]                  \n",
    "\n",
    "\n",
    "x_0 = x_train[y_train == 1]   # Точки класу 1\n",
    "x_1 = x_train[y_train == -1]  # Точки класу -1\n",
    "\n",
    "#Графік\n",
    "plt.scatter(x_0[:, 0], x_0[:, 1], color='red', label='Клас 1')\n",
    "plt.scatter(x_1[:, 0], x_1[:, 1], color='blue', label='Клас -1')\n",
    "plt.plot(line_x, line_y, color='green', label='Розділяюча лінія')\n",
    "\n",
    "# Налаштування графіка\n",
    "plt.xlim([0, 45])\n",
    "plt.ylim([0, 75])\n",
    "plt.ylabel(\"Довжина\")\n",
    "plt.xlabel(\"Ширина\")\n",
    "plt.legend()\n",
    "plt.grid(True)\n",
    "plt.show()"
   ]
  },
  {
   "cell_type": "markdown",
   "metadata": {},
   "source": [
    "3. Дати відповіді на контрольні запитання.\n",
    "\n",
    "\n",
    "#### Що таке навчальна вибірка і чому вона важлива для процесу розпізнавання образів?\n",
    "\n",
    "Основні принципи розпізнавання образів:\n",
    "1. Аналіз ознак: Виокремлення значущих характеристик об'єкта (наприклад, форма, колір, текстура) для класифікації.\n",
    "2. Моделювання: Використання алгоритмів (наприклад, персептрон, нейронні мережі) для вивчення залежностей між ознаками і класами об'єктів.\n",
    "3. Навчання на вибірці: Алгоритм \"навчається\" на прикладах, щоб розпізнавати об'єкти в нових, невідомих даних.\n",
    "\n",
    "#### Що таке навчальна вибірка і чому вона важлива для процесу розпізнавання образів?\n",
    "\n",
    "Навчальна вибірка — це набір даних, який використовують для тренування моделі машинного навчання. Вона важлива, оскільки допомагає моделі навчитися розпізнавати закономірності і приймати рішення щодо нових, невідомих даних.\n",
    "\n",
    "#### Зформулювати постановку задачі бінарної класифікації.\n",
    "\n",
    "Задача бінарної класифікації полягає в тому, щоб побудувати модель, яка зможе класифікувати об'єкти на два класи, зазвичай позначені як 0 і 1 або +1 і -1. Наприклад, у задачі розпізнавання спаму в електронній пошті, завдання полягає в тому, щоб визначити, чи є конкретний лист спамом (+1), чи ні (-1).\n",
    "\n",
    "Постановка задачі:\n",
    "- Дано набір вхідних векторів (ознаки), де кожен вектор має певні числові значення, які описують об'єкт.\n",
    "- Необхідно побудувати модель, яка за цими значеннями буде відносити об'єкти до одного з двох класів: 1 (позитивний клас) або -1 (негативний клас).\n",
    "- Мета — знайти таку модель, яка з мінімальною кількістю помилок класифікує нові об'єкти, що раніше не зустрічалися в навчальній вибірці.\n",
    "\n",
    "#### Що таке рівняння гіперплощини і як воно використовується для розв’язання задачі бінарної класифікації?\n",
    "\n",
    "У задачах, де класи можна розділити лінійно (тобто існує пряма, яка може відокремити два класи), для цього використовують гіперплощину. Вона визначає межу, яка розділяє простір ознак на дві частини, що відповідають різним класам. У випадку двовимірного простору (як на графіку з двома ознаками), ця гіперплощина буде прямою лінією.\n",
    "\n",
    "Рівняння гіперплощини для лінійної класифікації виглядає так:\n",
    "\n",
    "\n",
    "$ w_1 x_1 + w_2 x_2 + b = 0 $\n",
    "___\n",
    "- $ w1,w2w_1, w_2w1,w2 $ — коефіцієнти ваг для кожної ознаки,\n",
    "- $ x1,x2x_1, x_2x1,x2 $ — значення ознак для даного об'єкта,\n",
    "- $ b $ — зміщення (intercept), що дозволяє переміщати лінію.\n",
    "\n",
    "Задача — знайти таку гіперплощину (або лінію у двовимірному випадку), яка найкраще розділяє два класи. У задачах з лінійною класифікацією модель обчислює значення для кожного нового об'єкта та порівнює його з нулем, щоб визначити, до якого класу належить об'єкт.\n",
    "\n",
    "#### Кроки для розв’язання задачі бінарної класифікації за допомогою машинного навчання:\n",
    "\n",
    "Збір даних: Перш за все, необхідно зібрати та підготувати дані для навчання. Дані повинні бути розбиті на вхідні ознаки та відповідні мітки класів.\n",
    "\n",
    "Передобробка даних: Це може включати очищення даних (видалення пропущених значень), нормалізацію, стандартизацію або перетворення даних у зручний формат.\n",
    "\n",
    "Розподіл даних: Поділити дані на дві частини: навчальну вибірку (для тренування моделі) та тестову вибірку (для перевірки точності моделі).\n",
    "\n",
    "Вибір моделі: Вибрати модель, яка підходить для задачі. Це може бути лінійний класифікатор (наприклад, персептрон), дерево рішень або інша модель.\n",
    "\n",
    "Навчання моделі: Потрібно налаштувати параметри моделі на основі навчальної вибірки. Алгоритм буде шукати параметри (наприклад, ваги в лінійній моделі), які найкраще розділяють класи.\n",
    "\n",
    "4. Відправити результати роботи у файлі lab_1_Vasyliev.ipynb до віддаленого репозиторію на GіtHub.\n"
   ]
  },
  {
   "cell_type": "markdown",
   "metadata": {},
   "source": []
  }
 ],
 "metadata": {
  "kernelspec": {
   "display_name": "Python 3",
   "language": "python",
   "name": "python3"
  },
  "language_info": {
   "codemirror_mode": {
    "name": "ipython",
    "version": 3
   },
   "file_extension": ".py",
   "mimetype": "text/x-python",
   "name": "python",
   "nbconvert_exporter": "python",
   "pygments_lexer": "ipython3",
   "version": "3.13.2"
  }
 },
 "nbformat": 4,
 "nbformat_minor": 2
}
